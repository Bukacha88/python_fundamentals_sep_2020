{
 "cells": [
  {
   "cell_type": "markdown",
   "metadata": {},
   "source": [
    "# More Exercises: Basic Syntax, Conditional Statements and Loops\n",
    "\n",
    "Given a number, print the largest number that can be formed from the digits of the given number."
   ]
  },
  {
   "cell_type": "code",
   "execution_count": null,
   "metadata": {},
   "outputs": [],
   "source": [
    "n = input()\n",
    "\n",
    "string_list = list(str(n))\n",
    "\n",
    "max_number = ''\n",
    "while len(string_list) > 0:\n",
    "    max_number += max(string_list)\n",
    "    string_list.remove(max(string_list))\n",
    "print(max_number)"
   ]
  },
  {
   "cell_type": "markdown",
   "metadata": {},
   "source": [
    "# 2. Find the Capitals\n",
    "Write a program that takes a single string and prints a list of all the indices of all the capital letters."
   ]
  },
  {
   "cell_type": "code",
   "execution_count": null,
   "metadata": {},
   "outputs": [],
   "source": [
    "n = list(input())\n",
    "result = []\n",
    "for i in range(len(n)):\n",
    "    if 65 <= ord(n[i]) <= 90:\n",
    "        result.insert(i, i)\n",
    "print(result)\n"
   ]
  },
  {
   "cell_type": "markdown",
   "metadata": {},
   "source": [
    "# 3. Wolf in Sheep's Clothing\n",
    "Wolves have been reintroduced to Great Britain. You are a sheep farmer and are now plagued by wolves which\n",
    "pretend to be sheep. Fortunately, you are good at spotting them.\n",
    "Warn the sheep in front of the wolf that it is about to be eaten. Remember that you are standing at the front of the\n",
    "queue which is at the end of the list:\n",
    "[sheep, sheep, wolf, sheep, sheep] (YOU ARE HERE AT THE FRONT OF THE QUEUE)\n",
    "4 3 2 1\n",
    "If the wolf is the closest animal to you, print &quot;Please go away and stop eating my sheep&quot;. Otherwise,\n",
    "return \"Oi! Sheep number N! You are about to be eaten by a wolf!\" where N is the sheep\"s\n",
    "position in the queue.\n",
    "Note: there will always be exactly one wolf in the list.\n",
    "Input\n",
    "The input will be a single string containing the animals separated by comma and a single space \", \""
   ]
  },
  {
   "cell_type": "code",
   "execution_count": null,
   "metadata": {},
   "outputs": [],
   "source": [
    "n = input()\n",
    "list_of_animal = n.split(\", \")\n",
    "counter = 0\n",
    "for i in range(len(list_of_animal) - 1, -1, -1):\n",
    "    if list_of_animal[i] == 'wolf':\n",
    "        break\n",
    "    if list_of_animal[i] == 'sheep':\n",
    "        counter += 1\n",
    "if counter == 0:\n",
    "    print(f'Please go away and stop eating my sheep')\n",
    "else:\n",
    "    print(f\"Oi! Sheep number {counter}! You are about to be eaten by a wolf!\")\n"
   ]
  },
  {
   "cell_type": "markdown",
   "metadata": {},
   "source": [
    "# 4. Sum of a Beach\n",
    "Beaches are filled with sand, water, fish, and sun. Given a string, calculate how many times the words 'Sand',\n",
    "'Water', 'Fish', and 'Sun' appear (case insensitive)."
   ]
  },
  {
   "cell_type": "code",
   "execution_count": null,
   "metadata": {},
   "outputs": [],
   "source": [
    "word = input()\n",
    "\n",
    "matching_words = [\"sand\", \"water\", \"fish\", \"sun\"]\n",
    "match = 0\n",
    "\n",
    "for i in range(len(matching_words)):\n",
    "    match += word.lower().count(matching_words[i])\n",
    "print(match)"
   ]
  },
  {
   "cell_type": "markdown",
   "metadata": {},
   "source": [
    "# 5. How Much Coffee Do You Need?\n",
    "Everybody knows that you passed to much time awake during night time...\n",
    "Your task is to define how much coffee you need to stay awake after your night. Until you receive the command\n",
    "'END', you need to read a single command. According to this command you will print the number of coffee you\n",
    "need to stay awake during day time.\n",
    "Note: If the count exceeds 5 please return 'You need extra sleep'.\n",
    "The list of events can contain the following:\n",
    "- You have homework to do ('coding').\n",
    "- You have a dog or a cat that just decided to wake up too early ('dog' or 'cat').\n",
    "- You just watch a movie ('movie').\n",
    "- Other events can be present and it will be represent by arbitrary string, just ignore this one.\n",
    "Each event can be lowercase, or uppercase. If it is lowercase you need 1 coffee by event and if it is uppercase you\n",
    "need 2 coffees."
   ]
  },
  {
   "cell_type": "code",
   "execution_count": null,
   "metadata": {},
   "outputs": [],
   "source": [
    "command = input()\n",
    "coffee = 0\n",
    "while command != 'END':\n",
    "\n",
    "    if command == 'dog' or command == 'cat' or command == 'coding' or command == 'movie':\n",
    "        coffee += 1\n",
    "    elif command == 'DOG' or command == 'CAT' or command == 'CODING' or command == 'MOVIE':\n",
    "        coffee += 2\n",
    "    command = input()\n",
    "if coffee > 5:\n",
    "    print(\"You need extra sleep\")\n",
    "else:\n",
    "    print(coffee)"
   ]
  }
 ],
 "metadata": {
  "kernelspec": {
   "display_name": "Python 3",
   "language": "python",
   "name": "python3"
  },
  "language_info": {
   "codemirror_mode": {
    "name": "ipython",
    "version": 3
   },
   "file_extension": ".py",
   "mimetype": "text/x-python",
   "name": "python",
   "nbconvert_exporter": "python",
   "pygments_lexer": "ipython3",
   "version": "3.8.3"
  }
 },
 "nbformat": 4,
 "nbformat_minor": 4
}
