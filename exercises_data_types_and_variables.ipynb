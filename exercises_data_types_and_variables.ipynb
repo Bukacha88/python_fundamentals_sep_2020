{
 "cells": [
  {
   "cell_type": "markdown",
   "metadata": {},
   "source": [
    "# 1. Integer Operations\n",
    "Read four integer numbers. Add first to the second, divide (integer) the sum by the third number and multiply the\n",
    "result by the fourth number. Print the result."
   ]
  },
  {
   "cell_type": "code",
   "execution_count": null,
   "metadata": {},
   "outputs": [],
   "source": [
    "first_number = int(input())\n",
    "second_number = int(input())\n",
    "third_number = int(input())\n",
    "fourth_number = int(input())\n",
    "\n",
    "result = int((first_number + second_number) / third_number) * fourth_number\n",
    "\n",
    "print(result)"
   ]
  },
  {
   "cell_type": "markdown",
   "metadata": {},
   "source": [
    "# 2. Chars to String\n",
    "Write a function that receives 3 characters. Combine all the characters into one string and print it on the console."
   ]
  },
  {
   "cell_type": "code",
   "execution_count": null,
   "metadata": {},
   "outputs": [],
   "source": [
    "first_char = input()\n",
    "second_char = input()\n",
    "third_char = input()\n",
    "\n",
    "print(f\"{first_char}{second_char}{third_char}\")\n"
   ]
  },
  {
   "cell_type": "markdown",
   "metadata": {},
   "source": [
    "# 3. Elevator\n",
    "Calculate how many courses will be needed to elevate n persons by using an elevator with capacity of p persons.\n",
    "The input holds two lines: the number of people n and the capacity p of the elevator."
   ]
  },
  {
   "cell_type": "code",
   "execution_count": null,
   "metadata": {},
   "outputs": [],
   "source": [
    "persons = int(input())\n",
    "capacity_of_persons = int(input())\n",
    "courses = 0\n",
    "while persons > 0:\n",
    "    persons -= capacity_of_persons\n",
    "    courses += 1\n",
    "print(courses)"
   ]
  },
  {
   "cell_type": "markdown",
   "metadata": {},
   "source": [
    "# 4. Sum of Chars\n",
    "Write a program, which sums the ASCII codes of n characters and prints the sum on the console.\n",
    "Input\n",
    " On the first line, you will receive n – the number of lines, which will follow\n",
    " On the next n lines – you will receive letters from the Latin alphabet\n",
    "Output\n",
    "Print the total sum in the following format:\n",
    "The sum equals: {total_sum}\n",
    "Constraints\n",
    " n will be in the interval [1…20].\n",
    " The characters will always be either upper or lower-case letters from the English alphabet\n",
    " You will always receive one letter per line"
   ]
  },
  {
   "cell_type": "code",
   "execution_count": null,
   "metadata": {},
   "outputs": [],
   "source": [
    "n = int(input())\n",
    "total_sum = 0\n",
    "\n",
    "while n > 0:\n",
    "    n -= 1\n",
    "    letter = input()\n",
    "    total_sum += ord(letter)\n",
    "print(f\"The sum equals: {total_sum}\")"
   ]
  },
  {
   "cell_type": "markdown",
   "metadata": {},
   "source": [
    "# 5. Print Part of the ASCII Table\n",
    "Find online more information about ASCII (American Standard Code for Information Interchange) and write a\n",
    "program that prints part of the ASCII table of characters on the console. On the first line of input you will receive\n",
    "the char index you should start with and on the second line - the index of the last character you should print."
   ]
  },
  {
   "cell_type": "code",
   "execution_count": null,
   "metadata": {},
   "outputs": [],
   "source": [
    "first_line = int(input())\n",
    "second_line = int(input())\n",
    "\n",
    "for i in range(first_line, second_line + 1):\n",
    "    print(chr(i), end=\" \")\n"
   ]
  },
  {
   "cell_type": "markdown",
   "metadata": {},
   "source": [
    "# 6. Triples of Latin Letters\n",
    "Write a program to read an integer n and print all triples of the first n small Latin letters, ordered alphabetically:"
   ]
  },
  {
   "cell_type": "code",
   "execution_count": null,
   "metadata": {},
   "outputs": [],
   "source": [
    "num = int(input())\n",
    "\n",
    "for i in range(0, num):\n",
    "    for j in range(0, num):\n",
    "        for k in range(0, num):\n",
    "            print(f\"{chr(97 + i)}{chr(97 + j)}{chr((97 + k))}\")\n"
   ]
  },
  {
   "cell_type": "markdown",
   "metadata": {},
   "source": [
    "# 7. Water Overflow\n",
    "You have a water tank with capacity of 255 liters. On the next n lines, you will receive liters of water, which you\n",
    "have to pour in your tank. If the capacity is not enough, print &quot;Insufficient capacity!&quot; and continue reading\n",
    "the next line. On the last line, print the liters in the tank.\n",
    "Input\n",
    "The input will be on two lines:\n",
    " On the first line, you will receive n – the number of lines, which will follow\n",
    " On the next n lines – you receive quantities of water, which you have to pour in the tank\n",
    "Output\n",
    "Every time you do not have enough capacity in the tank to pour the given liters, print:\n",
    "Insufficient capacity!\n",
    "On the last line, print only the liters in the tank.\n",
    "Constraints\n",
    " n will be in the interval [1…20]\n",
    " liters will be in the interval [1…1000]"
   ]
  },
  {
   "cell_type": "code",
   "execution_count": null,
   "metadata": {},
   "outputs": [],
   "source": [
    "n = int(input())\n",
    "final_volume = 0\n",
    "quantities = 0\n",
    "for i in range(1, n + 1):\n",
    "    quantity = int(input())\n",
    "    quantities += quantity\n",
    "    if quantities <= 255 and final_volume <= 255:\n",
    "        final_volume += quantity\n",
    "    else:\n",
    "        quantities -= quantity\n",
    "        print('Insufficient capacity!')\n",
    "print(final_volume)\n",
    "\n"
   ]
  },
  {
   "cell_type": "markdown",
   "metadata": {},
   "source": [
    "# 8. * Party Profit\n",
    "As a young adventurer, you travel with your party around the world, seeking for gold and glory. But you need to split\n",
    "the profit among your companions.\n",
    "You will receive a party size. After that you receive the days of the adventure.\n",
    "Every day, you are earning 50 coins, but you also spent 2 coins per companion for food.\n",
    "Every 3 rd (third) day, you have a motivational party, spending 3 coins per companion for drinking water.\n",
    "Every 5 th (fifth) day you slay a boss monster and you gain 20 coins per companion. But if you have a motivational\n",
    "party the same day, you spent additional 2 coins per companion.\n",
    "Every 10 th (tenth) day at the start of the day, 2 (two) of your companions leave, but every 15 th (fifteenth) day 5\n",
    "(five) new companions are joined at the beginning of the day.\n",
    "You have to calculate how much coins gets each companion at the end of the adventure.\n",
    "Input / Constraints\n",
    "The input will consist of exactly 2 lines:\n",
    " party size – integer in range [1…100]\n",
    " days – integer in range [1…100]\n",
    "Output\n",
    "Print the following message: &quot;{companions_count} companions received {coins} coins each.&quot;\n",
    "You cannot split a coin, so take the integral part (round down the coins to integer number)."
   ]
  },
  {
   "cell_type": "code",
   "execution_count": null,
   "metadata": {},
   "outputs": [],
   "source": [
    "import math\n",
    "from math import floor\n",
    "\n",
    "party_size = int(input())\n",
    "days = int(input())\n",
    "coins = 0\n",
    "for i in range(1, days + 1):\n",
    "    coins += 50\n",
    "\n",
    "    if i % 10 == 0:\n",
    "        party_size -= 2\n",
    "    if i % 15 == 0:\n",
    "        party_size += 5\n",
    "    if i % 5 == 0:\n",
    "        coins += 20 * party_size\n",
    "        if i % 3 == 0:\n",
    "            coins -= 2 * party_size\n",
    "    if i % 3 == 0:\n",
    "        coins -= 3 * party_size\n",
    "    coins -= 2 * party_size\n",
    "print(f\"{party_size} companions received {floor(coins / party_size)} coins each.\")"
   ]
  },
  {
   "cell_type": "markdown",
   "metadata": {},
   "source": [
    "# 9. *Snowballs\n",
    "Tony and Andi love playing in the snow and having snowball fights, but they always argue which makes the best\n",
    "snowballs. They have decided to involve you in their fray, by making you write a program, which calculates snowball\n",
    "data, and outputs the best snowball value.\n",
    "You will receive N – an integer, the number of snowballs being made by Tony and Andi.\n",
    "For each snowball you will receive 3 input lines:\n",
    " On the first line you will get the snowball_snow – an integer.\n",
    "\n",
    "© SoftUni – https://softuni.org. Copyrighted document. Unauthorized copy, reproduction or use is not permitted.\n",
    "Follow us: Page 1 of 1\n",
    "\n",
    " On the second line you will get the snowball_time – an integer.\n",
    " On the third line you will get the snowball_quality – an integer.\n",
    "For each snowball you must calculate its snowball_value by the following formula:\n",
    "(snowball_snow / snowball_time) ^ snowball_quality\n",
    "\n",
    "At the end you must print the highest calculated snowball_value.\n",
    "Input\n",
    " On the first input line you will receive N – the number of snowballs.\n",
    " On the next N * 3 input lines you will be receiving data about snowballs.\n",
    "Output\n",
    " As output you must print the highest calculated snowball_value, by the formula, specified above.\n",
    " The output format is:\n",
    "{snowball_snow} : {snowball_time} = {snowball_value} ({snowball_quality})\n",
    "Constraints\n",
    " The number of snowballs (N) will be an integer in range [0, 100].\n",
    " The snowball_snow is an integer in range [0, 1000].\n",
    " The snowball_time is an integer in range [1, 500].\n",
    " The snowball_quality is an integer in range [0, 100]."
   ]
  },
  {
   "cell_type": "code",
   "execution_count": null,
   "metadata": {},
   "outputs": [],
   "source": [
    "import sys\n",
    "\n",
    "n = int(input())\n",
    "highest_snowball_snow = 0\n",
    "hieghst_snowbal_time = 0\n",
    "highest_snowball_quality = 0\n",
    "highest_snowball_value = -sys.maxsize\n",
    "for i in range(1, n + 1):\n",
    "    snowball_snow = int(input())\n",
    "    snowball_time = int(input())\n",
    "    snowball_quality = int(input())\n",
    "    snowball_value = int(snowball_snow / snowball_time) ** snowball_quality\n",
    "    if snowball_value > highest_snowball_value:\n",
    "        highest_snowball_value = snowball_value\n",
    "        highest_snowball_snow = snowball_snow\n",
    "        hieghst_snowbal_time = snowball_time\n",
    "        highest_snowball_quality = snowball_quality\n",
    "print(f\"{highest_snowball_snow} : {hieghst_snowbal_time} = {highest_snowball_value} ({highest_snowball_quality})\")\n"
   ]
  },
  {
   "cell_type": "markdown",
   "metadata": {},
   "source": [
    "# 10. * Gladiator Expenses\n",
    "As a gladiator, Peter has to repair his broken equipment when he loses a fight. His equipment consists of helmet,\n",
    "sword, shield and armor. You will receive the Peter`s lost fights count.\n",
    "\n",
    "© SoftUni – https://softuni.org. Copyrighted document. Unauthorized copy, reproduction or use is not permitted.\n",
    "Follow us: Page 1 of 1\n",
    "\n",
    "Every second lost game, his helmet is broken.\n",
    "Every third lost game, his sword is broken.\n",
    "When both his sword and helmet are broken in the same lost fight, his shield also brakes.\n",
    "Every second time, when his shield brakes, his armor also needs to be repaired.\n",
    "You will receive the price of each item in his equipment. Calculate his expenses for the year for renewing his\n",
    "equipment.\n",
    "Input / Constraints\n",
    "The input will consist of 5 lines:\n",
    " On the first line you will receive the lost fights count – integer in the range [0, 1000].\n",
    " On the second line you will receive the helmet price - floating point number in range [0, 1000].\n",
    " On the third line you will receive the sword price - floating point number in range [0, 1000].\n",
    " On the fourth line you will receive the shield price - floating point number in range [0, 1000].\n",
    " On the fifth line you will receive the armor price - floating point number in range [0, 1000].\n",
    "Output\n",
    " As output you must print Peter`s total expenses for new equipment: &quot;Gladiator expenses: {expenses}\n",
    "aureus&quot;"
   ]
  },
  {
   "cell_type": "code",
   "execution_count": null,
   "metadata": {},
   "outputs": [],
   "source": [
    "lost_fight_count = int(input())\n",
    "helmet_price = float(input())\n",
    "sword_price = float(input())\n",
    "shield_price = float(input())\n",
    "armour_price = float(input())\n",
    "expenses = 0\n",
    "broken_shield = 0\n",
    "for i in range(lost_fight_count, 0, -1):\n",
    "    if i % 2 == 0:\n",
    "        expenses += helmet_price\n",
    "    if i % 3 == 0:\n",
    "        expenses += sword_price\n",
    "    if i % 2 == 0 and i % 3 == 0:\n",
    "        expenses += shield_price\n",
    "        broken_shield += 1\n",
    "        if broken_shield == 2:\n",
    "            expenses += armour_price\n",
    "            broken_shield = 0\n",
    "print(f\"Gladiator expenses: {expenses:.2f} aureus\")\n"
   ]
  }
 ],
 "metadata": {
  "kernelspec": {
   "display_name": "Python 3",
   "language": "python",
   "name": "python3"
  },
  "language_info": {
   "codemirror_mode": {
    "name": "ipython",
    "version": 3
   },
   "file_extension": ".py",
   "mimetype": "text/x-python",
   "name": "python",
   "nbconvert_exporter": "python",
   "pygments_lexer": "ipython3",
   "version": "3.8.3"
  }
 },
 "nbformat": 4,
 "nbformat_minor": 4
}
