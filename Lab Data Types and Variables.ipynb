{
 "cells": [
  {
   "cell_type": "markdown",
   "metadata": {},
   "source": [
    "# 1. Concat Names\n",
    "Read two names and a delimiter. Print the names joined by the delimiter.\n"
   ]
  },
  {
   "cell_type": "code",
   "execution_count": null,
   "metadata": {},
   "outputs": [],
   "source": [
    "first_name = input()\n",
    "second_name = input()\n",
    "delimiter = input()\n",
    "\n",
    "print(f\"{first_name}{delimiter}{second_name}\")"
   ]
  },
  {
   "cell_type": "markdown",
   "metadata": {},
   "source": [
    "# 2. Centuries to Minutes\n",
    "Write a program to enter an integer number of centuries and convert it to years, days, hours and minutes."
   ]
  },
  {
   "cell_type": "code",
   "execution_count": null,
   "metadata": {},
   "outputs": [],
   "source": [
    "centuries = int(input())\n",
    "years = 100 * centuries\n",
    "days = int(365.2422 * years)\n",
    "hours = 24 * days\n",
    "minutes = 60 * hours\n",
    "\n",
    "print(f\"{centuries} centuries = {years} years = {days} days = {hours} hours = {minutes} minutes\")"
   ]
  },
  {
   "cell_type": "markdown",
   "metadata": {},
   "source": [
    "# 3. Special Numbers\n",
    "A number is special when the sum of its digits is 5, 7 or 11."
   ]
  },
  {
   "cell_type": "code",
   "execution_count": null,
   "metadata": {},
   "outputs": [],
   "source": [
    "n = int(input())\n",
    "\n",
    "for num in range(1, n + 1):\n",
    "    sum_of_digits = 0\n",
    "    digits = num\n",
    "    while digits > 0:\n",
    "        sum_of_digits += digits % 10\n",
    "        digits = int(digits / 10)\n",
    "    if (sum_of_digits == 5) or (sum_of_digits == 7) or (sum_of_digits == 11):\n",
    "        print(f\"{num} -> True\")\n",
    "    else:\n",
    "        print(f'{num} -> False')\n"
   ]
  },
  {
   "cell_type": "markdown",
   "metadata": {},
   "source": [
    "# 4. Convert Meters to Kilometers\n",
    "You will be given an integer that will be distance in meters. Write a program that converts meters to kilometers\n",
    "formatted to the second decimal point."
   ]
  },
  {
   "cell_type": "code",
   "execution_count": null,
   "metadata": {},
   "outputs": [],
   "source": [
    "meters = int(input())\n",
    "\n",
    "kilometers = meters / 1000\n",
    "\n",
    "print(f\"{kilometers:.2f}\")\n"
   ]
  },
  {
   "cell_type": "markdown",
   "metadata": {},
   "source": [
    "# 5. Pounds to Dollars\n",
    "Write a program that converts British pounds to US dollars formatted to the 3th decimal point.\n",
    "1 British Pound = 1.31 Dollars"
   ]
  },
  {
   "cell_type": "code",
   "execution_count": null,
   "metadata": {},
   "outputs": [],
   "source": [
    "pound = int(input())\n",
    "\n",
    "dollars = pound * 1.31\n",
    "\n",
    "print(f\"{dollars:.3f}\")"
   ]
  }
 ],
 "metadata": {
  "kernelspec": {
   "display_name": "Python 3",
   "language": "python",
   "name": "python3"
  },
  "language_info": {
   "codemirror_mode": {
    "name": "ipython",
    "version": 3
   },
   "file_extension": ".py",
   "mimetype": "text/x-python",
   "name": "python",
   "nbconvert_exporter": "python",
   "pygments_lexer": "ipython3",
   "version": "3.8.3"
  }
 },
 "nbformat": 4,
 "nbformat_minor": 4
}
