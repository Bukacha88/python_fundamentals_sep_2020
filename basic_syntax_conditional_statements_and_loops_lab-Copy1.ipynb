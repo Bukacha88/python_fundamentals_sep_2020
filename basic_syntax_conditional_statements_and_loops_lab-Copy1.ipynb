{
 "cells": [
  {
   "cell_type": "markdown",
   "metadata": {},
   "source": [
    "# Lab: Basic Syntax, Conditional Statements and Loops\n"
   ]
  },
  {
   "cell_type": "markdown",
   "metadata": {},
   "source": [
    "# Biggest of Three Numbers\n",
    "Write a program that receives three whole numbers and print the biggest one\n"
   ]
  },
  {
   "cell_type": "code",
   "execution_count": null,
   "metadata": {},
   "outputs": [],
   "source": [
    "a = int(input())\n",
    "b = int(input())\n",
    "c = int(input())\n",
    "\n",
    "print(max(a, b, c))\n"
   ]
  },
  {
   "cell_type": "markdown",
   "metadata": {},
   "source": [
    "# ⦁\tNumber Definer\n",
    "Write a program that reads a floating-point number and prints \"zero\" if the number is zero. Otherwise, print \"positive\" or \"negative\". Add \"small\" if the absolute value of the number is less than 1, or \"large\" if it exceeds 1 000 000.\n"
   ]
  },
  {
   "cell_type": "code",
   "execution_count": null,
   "metadata": {},
   "outputs": [],
   "source": [
    "number = float(input())\n",
    "\n",
    "if number == 0:\n",
    "    print('zero')\n",
    "elif 1 < number < 1000000:\n",
    "    print('positive')\n",
    "elif 0 < number < 1:\n",
    "    print('small positive')\n",
    "elif number > 1000000:\n",
    "    print('large positive')\n",
    "elif -1 < number < 0:\n",
    "    print('small negative')\n",
    "elif -1000000 < number < -1:\n",
    "    print('negative')\n",
    "else:\n",
    "    print('large negative')\n"
   ]
  },
  {
   "cell_type": "markdown",
   "metadata": {},
   "source": [
    "# ⦁\tWord Reverse\n",
    "Write a program that receives a single word from the user, reverses it and prints it\n"
   ]
  },
  {
   "cell_type": "code",
   "execution_count": null,
   "metadata": {},
   "outputs": [],
   "source": [
    "word = input()\n",
    "\n",
    "for i in range(len(word) - 1, -1, -1):\n",
    "    print(word[i], end=\"\")\n"
   ]
  },
  {
   "cell_type": "markdown",
   "metadata": {},
   "source": [
    "# ⦁\tNumber Between 1 and 100\n",
    "\n",
    "Write a program which reads numbers from the console until it receives a number between 1 and 100 inclusive. When the correct number is received, stop reading and print \"The number {number} is between 1 and 100\"\n"
   ]
  },
  {
   "cell_type": "code",
   "execution_count": null,
   "metadata": {},
   "outputs": [],
   "source": [
    "number = float(input())\n",
    "\n",
    "while number < 1 or number > 100:\n",
    "    number = float(input())\n",
    "\n",
    "print(f\"The number {number} is between 1 and 100\")"
   ]
  },
  {
   "cell_type": "raw",
   "metadata": {},
   "source": [
    "# ⦁\tPatterns\n",
    "Write a program to create the following pattern:\n",
    " *\n",
    " **\n",
    " ***\n",
    " ****\n",
    " *****\n",
    " ****\n",
    " ***\n",
    " **\n",
    " *\n",
    "You will receive a number that represents the highest number of stars.\n"
   ]
  },
  {
   "cell_type": "code",
   "execution_count": null,
   "metadata": {},
   "outputs": [],
   "source": [
    "number = int(input())\n",
    "\n",
    "for row in range(1, number + 1):\n",
    "    print(row * '*')\n",
    "for row in range(number - 1, -1, -1):\n",
    "    print(row * '*')\n"
   ]
  }
 ],
 "metadata": {
  "kernelspec": {
   "display_name": "Python 3",
   "language": "python",
   "name": "python3"
  },
  "language_info": {
   "codemirror_mode": {
    "name": "ipython",
    "version": 3
   },
   "file_extension": ".py",
   "mimetype": "text/x-python",
   "name": "python",
   "nbconvert_exporter": "python",
   "pygments_lexer": "ipython3",
   "version": "3.8.3"
  }
 },
 "nbformat": 4,
 "nbformat_minor": 4
}
