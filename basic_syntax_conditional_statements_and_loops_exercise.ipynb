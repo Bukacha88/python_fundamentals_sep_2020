{
 "cells": [
  {
   "cell_type": "markdown",
   "metadata": {},
   "source": [
    "# Exercise: Basic Syntax, Conditional Statements and Loops"
   ]
  },
  {
   "cell_type": "markdown",
   "metadata": {},
   "source": [
    "# 1. Jenny&#39;s Secret Message\n",
    "Jenny studies programming with Python and wants to create a program that greets a user when he/she gives\n",
    "his/her name. Jenny however is in love with Johnny, and would like to greet him differently. Can you help her?"
   ]
  },
  {
   "cell_type": "code",
   "execution_count": null,
   "metadata": {},
   "outputs": [],
   "source": [
    "name = input()\n",
    "\n",
    "if name == 'Johnny':\n",
    "    print('Hello, my love!')\n",
    "else:\n",
    "    print(f'Hello, {name}!')"
   ]
  },
  {
   "cell_type": "markdown",
   "metadata": {},
   "source": [
    "# 2. Drink Something\n",
    "Kids drink toddy, Teens drink coke, Young adults drink beer, Adults drink whisky.\n",
    "Make a program that receives an age, and returns what they drink.\n",
    "Rules:\n",
    "Kids under 14 years old.\n",
    "Teens under 18 years old.\n",
    "Young adults under 21 years old.\n",
    "Adults above 21.\n",
    "Note: All the values except the last one are inclusive!"
   ]
  },
  {
   "cell_type": "code",
   "execution_count": null,
   "metadata": {},
   "outputs": [],
   "source": [
    "age = int(input())\n",
    "\n",
    "if age <= 14:\n",
    "    print('drink toddy')\n",
    "elif 14 < age <= 18:\n",
    "    print('drink coke')\n",
    "elif 18 < age <= 21:\n",
    "    print('drink beer')\n",
    "else:\n",
    "    print('drink whisky')"
   ]
  },
  {
   "cell_type": "markdown",
   "metadata": {},
   "source": [
    "# 3. Leonardo DiCaprio Oscars\n",
    "Write a program that receives a single integer number and prints different messages depending on the number:\n",
    "- If Oscar is 88 - \"Leo finally won the Oscar! Leo is happy\".\n",
    "- If Oscar is 86 - \"Not even for Wolf of Wall Street?!\"\n",
    "- If Oscar is not 88 nor 86 (and below 88) - \"When will you give Leo an Oscar?\"\n",
    "- If Oscar is over 88 - \"Leo got one already!\""
   ]
  },
  {
   "cell_type": "code",
   "execution_count": null,
   "metadata": {},
   "outputs": [],
   "source": [
    "number = int(input())\n",
    "\n",
    "if number == 88:\n",
    "    print('Leo finally won the Oscar! Leo is happy')\n",
    "elif number == 86:\n",
    "    print('Not even for Wolf of Wall Street?!')\n",
    "elif number < 88 and number != 86:\n",
    "    print('When will you give Leo an Oscar?')\n",
    "elif number > 88:\n",
    "    print('Leo got one already!')"
   ]
  },
  {
   "cell_type": "markdown",
   "metadata": {},
   "source": [
    "# 4. Double Char\n",
    "Given a string, you have to print a string in which each character (case-sensitive) is repeated."
   ]
  },
  {
   "cell_type": "code",
   "execution_count": null,
   "metadata": {},
   "outputs": [],
   "source": [
    "word = input()\n",
    "double_char = \"\"\n",
    "for i in range(0, len(word)):\n",
    "    double_char += 2 * word[i]\n",
    "print(double_char)\n"
   ]
  },
  {
   "cell_type": "markdown",
   "metadata": {},
   "source": [
    "# 5. Can't Sleep? Count Sheep\n",
    "If you can&#39;t sleep, just count sheep! Given a non-negative integer, 3 for example, return a string with a murmur: \"1\n",
    "sheep...2 sheep...3 sheep...\" Input will always be valid, i.e. no negative integers."
   ]
  },
  {
   "cell_type": "code",
   "execution_count": null,
   "metadata": {},
   "outputs": [],
   "source": [
    "number = int(input())\n",
    "\n",
    "for i in range(1, number + 1):\n",
    "    print(f\"{i} sheep...\", end=\"\")"
   ]
  },
  {
   "cell_type": "markdown",
   "metadata": {},
   "source": [
    "# 6. Next Happy Year\n",
    "You're saying good-bye your best friend, \"See you next happy year\". Happy Year is the year with only distinct digits,\n",
    "(e.g) 2018. Write a program that receives an integer number and finds the next happy year."
   ]
  },
  {
   "cell_type": "code",
   "execution_count": null,
   "metadata": {},
   "outputs": [],
   "source": [
    "year = int(input())\n",
    "while True:\n",
    "    year += 1\n",
    "    if len(str(year)) == len(set(str(year))):\n",
    "        print(year)\n",
    "        break"
   ]
  },
  {
   "cell_type": "markdown",
   "metadata": {},
   "source": [
    "# 7. Maximum Multiple\n",
    "Given a Divisor and a Bound, find the largest integer N, such that:\n",
    "N is divisible by divisor\n",
    "N is less than or equal to bound\n",
    "N is greater than 0.\n",
    "Notes: The divisor and bound are only positive values. It&#39;s guaranteed that a divisor is found"
   ]
  },
  {
   "cell_type": "code",
   "execution_count": null,
   "metadata": {},
   "outputs": [],
   "source": [
    "divisor = int(input())\n",
    "bound = int(input())\n",
    "number = \"\"\n",
    "for n in range(1, bound + 1):\n",
    "    if n % divisor == 0:\n",
    "        number = n\n",
    "print(number)"
   ]
  },
  {
   "cell_type": "markdown",
   "metadata": {},
   "source": [
    "# 8. * Mutate Strings\n",
    "You will be given two strings. Transform the first string into the second one, one letter at a time and print it. Print\n",
    "only the unique strings\n",
    "Note: the strings will have the same lengths"
   ]
  },
  {
   "cell_type": "code",
   "execution_count": null,
   "metadata": {},
   "outputs": [],
   "source": [
    "string_1 = input()\n",
    "string_2 = input()\n",
    "current_string = \"\"\n",
    "previous_string = string_1\n",
    "\n",
    "for iteration in range(len(string_1)):\n",
    "    for index_str_2 in range(0 , iteration + 1):\n",
    "        current_string += string_2[index_str_2]\n",
    "        for index_str_1 in range(iteration + 1 , len(string_1)):\n",
    "            current_string += string_1[index_str_1]\n",
    "        if not current_string == previous_string:\n",
    "            print(current_string)\n",
    "        previous_string = current_string\n",
    "\n",
    "        current_string = \"\""
   ]
  },
  {
   "cell_type": "markdown",
   "metadata": {},
   "source": [
    "# 9. * Easter Cozonacs\n",
    "Since it’s Easter you have decided to make some cozonacs and exchange them for eggs.\n",
    "Create a program that calculates how much cozonacs you can make with the budget you have. First, you will\n",
    "receive your budget. Then, you will receive the price for 1 kg flour. Here is the recipe for one cozonac:\n",
    "\n",
    "Eggs 1 pack\n",
    "Flour 1 kg\n",
    "Milk 0.250 l\n",
    "\n",
    "The price for 1 pack of eggs is 75% of the price for 1 kg flour. The price for 1l milk is 25% more than price for 1 kg\n",
    "flour. Notice, that you need 0.250l milk for one cozonac and the calculated price is for 1l.\n",
    "Start cooking the cozonacs and keep making them until you have enough budget. Keep in mind that:\n",
    " For every cozonac that you make, you will receive 3 colored eggs.\n",
    " For every 3 rd cozonac that you make, you will lose some of your colored eggs after you have received\n",
    "the usual 3 colored eggs for your cozonac. The count of eggs you will lose is calculated when you\n",
    "subtract 2 from your current count of cozonacs – ({currentCozonacsCount} – 2)\n",
    "\n",
    "In the end, print the cozonacs you made, the eggs you have gathered and the money you have left, formatted to the\n",
    "2 nd decimal place, in the following format:\n",
    "&quot;You made {countOfCozonacs} cozonacs! Now you have {coloredEggs} eggs and\n",
    "{moneyLeft}BGN left.&quot;\n",
    "Input / Constraints\n",
    " On the 1 st line you will receive the budget – a real number in the range [0.0…100000.0]\n",
    " On the 2 nd line you will receive the price for 1 kg flour – a real number in the range [0.0…100000.0]\n",
    " The input will always be in the right format.\n",
    " You will always have a remaining budget.\n",
    " There will not be a case in which the eggs become a negative count.\n",
    "Output\n",
    " In the end print the count of cozonacs you have made, the colored eggs you have gathered and the money\n",
    "formatted to the 2 nd decimal place in the format described above."
   ]
  },
  {
   "cell_type": "code",
   "execution_count": null,
   "metadata": {},
   "outputs": [],
   "source": [
    "budget = float(input())\n",
    "price_kilo_flour = float(input())\n",
    "price_pack_eggs = price_kilo_flour * 0.75\n",
    "price_litter_milk = price_kilo_flour * 1.25\n",
    "price_milk = price_litter_milk / 4\n",
    "price_cozonac = price_milk + price_kilo_flour + price_pack_eggs\n",
    "count_of_cozonacs = 0\n",
    "colored_eggs = 0\n",
    "\n",
    "while budget > price_cozonac:\n",
    "    budget -= price_cozonac\n",
    "    count_of_cozonacs += 1\n",
    "    colored_eggs += 3\n",
    "    if count_of_cozonacs % 3 == 0:\n",
    "        colored_eggs -= count_of_cozonacs - 2\n",
    "print(f\"You made {count_of_cozonacs} cozonacs! Now you have {colored_eggs} eggs and {budget:.2f}BGN left.\")"
   ]
  },
  {
   "cell_type": "raw",
   "metadata": {},
   "source": [
    "# 10. * Christmas Spirit\n",
    "It's time to get in a Christmas mood. You have to decorate the house in time for the big event, but you have limited\n",
    "days to do so.\n",
    "You will receive allowed quantity for one type of decoration and days left until Christmas day to decorate the\n",
    "house.\n",
    "There are 4 types of decorations and each piece costs a price\n",
    "- Ornament Set – 2 a piece\n",
    "- Tree Skirt – 5 a piece\n",
    "- Tree Garlands – 3 a piece\n",
    "- Tree Lights – 15 a piece\n",
    "Every second day you buy an Ornament Set quantity of times and increase your Christmas spirit by 5.\n",
    "Every third day you buy Tree Skirts and Tree Garlands (both quantity of times) and increase your spirit by 13.\n",
    "Every fifth day you buy Tree Lights quantity of times and increase your Christmas spirit by 17. If you have bought\n",
    "Tree Skirts and Tree Garlands at the same day you additionally increase your spirit by 30.\n",
    "Every tenth day you lose 20 spirit, because your cat ruins all tree decorations and you have to rebuild the tree and\n",
    "buy one piece of tree skirt, garlands and lights. That is why you are forced to increase the allowed quantity with 2\n",
    "at the beginning of every eleventh day.\n",
    "Also if the last day is a tenth day the cat decides to demolish even more and ruins the Christmas turkey and you lose\n",
    "additional 30 spirit.\n",
    "At the end you must print the total cost and the gained spirit.\n",
    "Input / Constraints\n",
    "The input will consist of exactly 2 lines:\n",
    " quantity – integer in range [1…100]\n",
    " days – integer in range [1…100]\n",
    "Output\n",
    "At the end print the total cost and the total gained spirit in the following format:\n",
    " \"Total cost: {budget}\"\n",
    " \"Total spirit: {totalSpirit}\""
   ]
  },
  {
   "cell_type": "code",
   "execution_count": null,
   "metadata": {},
   "outputs": [],
   "source": [
    "quantity = int(input())\n",
    "days = int(input())\n",
    "budget = 0\n",
    "spirit = 0\n",
    "\n",
    "for i in range(1, days + 1):\n",
    "    if i % 11 == 0:\n",
    "        quantity += 2\n",
    "    if i % 2 == 0:\n",
    "        budget += quantity * 2\n",
    "        spirit += 5\n",
    "    if i % 3 == 0:\n",
    "        budget += (quantity * 5) + (quantity * 3)\n",
    "        spirit += 13\n",
    "    if i % 5 == 0:\n",
    "        budget += quantity * 15\n",
    "        spirit += 17\n",
    "        if i % 3 == 0 and i % 5 == 0:\n",
    "            spirit += 30\n",
    "    if i % 10 == 0:\n",
    "        spirit -= 20\n",
    "        budget += 23\n",
    "if days % 10 == 0:\n",
    "    spirit -= 30\n",
    "print(f\"Total cost: {budget}\")\n",
    "print(f\"Total spirit: {spirit}\")\n"
   ]
  }
 ],
 "metadata": {
  "kernelspec": {
   "display_name": "Python 3",
   "language": "python",
   "name": "python3"
  },
  "language_info": {
   "codemirror_mode": {
    "name": "ipython",
    "version": 3
   },
   "file_extension": ".py",
   "mimetype": "text/x-python",
   "name": "python",
   "nbconvert_exporter": "python",
   "pygments_lexer": "ipython3",
   "version": "3.8.3"
  }
 },
 "nbformat": 4,
 "nbformat_minor": 4
}
